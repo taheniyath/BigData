{
 "cells": [
  {
   "cell_type": "code",
   "execution_count": 1,
   "metadata": {},
   "outputs": [],
   "source": [
    "#! /usr/bin/env python\n",
    "\n",
    "from pyspark import SparkConf, SparkContext\n",
    "sc = SparkContext(conf=SparkConf().setAppName(\"MyApp\").setMaster(\"local[2]\"))\n",
    "\n",
    "import re\n",
    "import math"
   ]
  },
  {
   "cell_type": "code",
   "execution_count": null,
   "metadata": {},
   "outputs": [],
   "source": [
    "stop_file = \"/datasets/stop_words_en.txt\"\n",
    "wiki_file = \"/data/wiki/en_articles_part/articles-part\"\n",
    "pair_thresh = 500\n",
    "\n",
    "with open(stop_file, \"r\") as f:\n",
    "    stop_words = f.read().splitlines()\n",
    "    \n",
    "stop_words_bcast = sc.broadcast(stop_words)\n",
    "\n",
    "def parse_article(line):\n",
    "    try:\n",
    "        article_id, text = line.rstrip().split('\\t', 1)\n",
    "        text = re.sub(\"^\\W+|\\W+$\", \"\", text, flags=re.UNICODE)\n",
    "        words = re.split(\"\\W*\\s+\\W*\", text, flags=re.UNICODE)\n",
    "        return words\n",
    "    except ValueError as e:\n",
    "        return []\n",
    "    \n",
    "def lower(words):\n",
    "    return [word.lower() for word in words]\n",
    "\n",
    "def filter_stop(words):\n",
    "    return [word for word in words if word not in stop_words_bcast.value]\n",
    "\n",
    "def pairs(words):\n",
    "    out = []\n",
    "    for w1, w2 in zip(words, words[1:]):\n",
    "        out.append((w1.lower() + \"_\" + w2.lower(), 1))\n",
    "    return out\n",
    "\n",
    "wiki = (sc.textFile(wiki_file, 16)\n",
    "         .map(parse_article)  \n",
    "         .map(lower)\n",
    "         .map(filter_stop)\n",
    "        ).cache()"
   ]
  },
  {
   "cell_type": "code",
   "execution_count": null,
   "metadata": {},
   "outputs": [],
   "source": [
    "words = (wiki.flatMap(lambda wds : [(word, 1) for word in wds])\n",
    "         .reduceByKey(lambda x,y: x+y)\n",
    "        ).cache()\n",
    "\n",
    "words_total = words.map(lambda value: value[1]).sum()\n",
    "words_total = sc.broadcast(words_total)\n",
    "\n",
    "words_count_map = words.collectAsMap()\n",
    "words_count_map = sc.broadcast(words_count_map)\n",
    "\n",
    "pairs = (wiki.flatMap(pairs)\n",
    "         .reduceByKey(lambda x,y : x+y)\n",
    "        ).cache()\n",
    "\n",
    "pairs_total = pairs.map(lambda value: value[1]).sum()\n",
    "pairs_total = sc.broadcast(pairs_total)"
   ]
  },
  {
   "cell_type": "code",
   "execution_count": null,
   "metadata": {},
   "outputs": [],
   "source": [
    "def npmi(value):\n",
    "    pair, count = value\n",
    "    w1, w2 = pair.split(\"_\")\n",
    "    w1_count = words_count_map.value[w1]\n",
    "    w2_count = words_count_map.value[w2]\n",
    "    \n",
    "    pair_prob = float(count) / pairs_total.value\n",
    "    w1_prob = float(w1_count) / words_total.value\n",
    "    w2_prob = float(w2_count) / words_total.value\n",
    "    \n",
    "    pmi = math.log(pair_prob / (w1_prob * w2_prob))\n",
    "    npmi = pmi / (-1 * math.log(pair_prob))\n",
    "    return (pair, npmi)\n",
    "\n",
    "npmi = (pairs\n",
    "        .filter(lambda value: value[1] > pair_thresh)\n",
    "        .map(lambda value: npmi(value))\n",
    "        .sortBy(lambda value: value[1], ascending=False)\n",
    "       ).cache()"
   ]
  },
  {
   "cell_type": "code",
   "execution_count": null,
   "metadata": {},
   "outputs": [],
   "source": [
    "for pair, value in npmi.take(39):\n",
    "    print(pair)"
   ]
  },
  {
   "cell_type": "code",
   "execution_count": null,
   "metadata": {},
   "outputs": [],
   "source": []
  },
  {
   "cell_type": "code",
   "execution_count": null,
   "metadata": {},
   "outputs": [],
   "source": []
  }
 ],
 "metadata": {
  "kernelspec": {
   "display_name": "Python 3",
   "language": "python",
   "name": "python3"
  },
  "language_info": {
   "codemirror_mode": {
    "name": "ipython",
    "version": 3
   },
   "file_extension": ".py",
   "mimetype": "text/x-python",
   "name": "python",
   "nbconvert_exporter": "python",
   "pygments_lexer": "ipython3",
   "version": "3.6.2"
  }
 },
 "nbformat": 4,
 "nbformat_minor": 2
}
