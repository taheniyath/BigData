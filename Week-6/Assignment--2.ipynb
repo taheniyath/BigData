{
 "cells": [
  {
   "cell_type": "code",
   "execution_count": 1,
   "metadata": {},
   "outputs": [
    {
     "name": "stdout",
     "output_type": "stream",
     "text": [
      "Writing mapper1.py\n"
     ]
    }
   ],
   "source": [
    "%%writefile mapper1.py\n",
    "\n",
    "import sys\n",
    "import re\n",
    "import collections\n",
    "\n",
    "reload(sys)\n",
    "sys.setdefaultencoding('utf-8') # required to convert to unicode\n",
    "\n",
    "path = \"stop_words_en.txt\"\n",
    "\n",
    "with open(path, \"r\") as f:\n",
    "    stop_words = f.read().splitlines()\n",
    "    \n",
    "def cleanup(words):\n",
    "    return [word.lower().strip() for word in words if (word.lower() not in stop_words)]\n",
    "\n",
    "for line in sys.stdin:\n",
    "    try:\n",
    "        article_id, text = unicode(line.strip()).split('\\t', 1)\n",
    "        text = re.sub(\"^\\W+|\\W+$\", \"\", text, flags=re.UNICODE)\n",
    "        words = re.split(\"\\W*\\s+\\W*\", text, flags=re.UNICODE)\n",
    "        words = cleanup(words)\n",
    "        \n",
    "        words_counter = collections.Counter(words)\n",
    "        words_total = sum(words_counter.values())\n",
    "\n",
    "        for word, count in sorted(words_counter.items()):\n",
    "            if not word.isalpha(): continue\n",
    "            tf = float(count)/float(words_total)\n",
    "            print(\"{}\\t{}\\t{:f}\".format(word, article_id, tf))\n",
    "             \n",
    "    except Exception as e:\n",
    "        print(e)\n",
    "        continue"
   ]
  },
  {
   "cell_type": "code",
   "execution_count": 2,
   "metadata": {},
   "outputs": [
    {
     "name": "stdout",
     "output_type": "stream",
     "text": [
      "Writing reducer1.py\n"
     ]
    }
   ],
   "source": [
    "%%writefile reducer1.py\n",
    "\n",
    "import sys\n",
    "import math\n",
    "\n",
    "current_word = None\n",
    "article_count = 0\n",
    "tf_memory = {}\n",
    "\n",
    "for line in sys.stdin:\n",
    "    try:\n",
    "        word, article_id, tf = line.strip().split('\\t', 2)\n",
    "        tf = float(tf)\n",
    "        \n",
    "        if current_word != word:\n",
    "            if current_word:\n",
    "                idf = float(1)/math.log(1 + article_count)\n",
    "                for article, tff in tf_memory.items():\n",
    "                    print(\"{}\\t{}\\t{:f}\".format(current_word, article, tff*idf))\n",
    "            \n",
    "            current_word = word\n",
    "            article_count = 0\n",
    "            tf_memory.clear()\n",
    "        \n",
    "        article_count += 1\n",
    "        tf_memory[article_id] = float(tf)\n",
    "    \n",
    "    except Exception as e:\n",
    "        print(e)\n",
    "        continue\n",
    "        \n",
    "if current_word:\n",
    "    idf = float(1)/math.log(1 + article_count)\n",
    "    for word, tf in tf_memory.items():\n",
    "        print(\"{}\\t{}\\t{:f}\".format(current_word, article, tff*idf))"
   ]
  },
  {
   "cell_type": "code",
   "execution_count": 3,
   "metadata": {},
   "outputs": [
    {
     "name": "stderr",
     "output_type": "stream",
     "text": [
      "bash: line 5: hdfs: command not found\n",
      "bash: line 7: yarn: command not found\n",
      "bash: line 18: hdfs: command not found\n"
     ]
    }
   ],
   "source": [
    "%%bash\n",
    "\n",
    "OUT_DIR=\"assignment3_\"$(date +\"%s%6N\")\n",
    "NUM_REDUCERS=4\n",
    "\n",
    "hdfs dfs -rm -r -skipTrash ${OUT_DIR} > /dev/null\n",
    "\n",
    "yarn jar /opt/cloudera/parcels/CDH/lib/hadoop-mapreduce/hadoop-streaming.jar \\\n",
    "    -D mapred.jab.name=\"Assignment 3\" \\\n",
    "    -D mapreduce.job.reduces=${NUM_REDUCERS} \\\n",
    "    -D mapreduce.partition.keypartitioner.options=-k1,1 \\\n",
    "    -files mapper1.py,reducer1.py,/datasets/stop_words_en.txt \\\n",
    "    -mapper \"python2 mapper1.py\" \\\n",
    "    -reducer \"python2 reducer1.py\" \\\n",
    "    -partitioner org.apache.hadoop.mapred.lib.KeyFieldBasedPartitioner \\\n",
    "    -input /data/wiki/en_articles_part \\\n",
    "    -output ${OUT_DIR} > /dev/null \n",
    "\n",
    "hdfs dfs -cat ${OUT_DIR}/part* | grep -w \"labor\" | grep -w \"12\" | cut -f 3"
   ]
  },
  {
   "cell_type": "code",
   "execution_count": null,
   "metadata": {},
   "outputs": [],
   "source": []
  }
 ],
 "metadata": {
  "kernelspec": {
   "display_name": "Python 3",
   "language": "python",
   "name": "python3"
  },
  "language_info": {
   "codemirror_mode": {
    "name": "ipython",
    "version": 3
   },
   "file_extension": ".py",
   "mimetype": "text/x-python",
   "name": "python",
   "nbconvert_exporter": "python",
   "pygments_lexer": "ipython3",
   "version": "3.6.2"
  }
 },
 "nbformat": 4,
 "nbformat_minor": 2
}
