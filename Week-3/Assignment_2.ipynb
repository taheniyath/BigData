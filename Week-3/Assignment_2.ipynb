{
 "cells": [
  {
   "cell_type": "code",
   "execution_count": 2,
   "metadata": {},
   "outputs": [],
   "source": [
    "%%writefile mapper.py\n",
    "#!/usr/bin/python\n",
    "\n",
    "import sys\n",
    "import re\n",
    "\n",
    "reload(sys)\n",
    "sys.setdefaultencoding('utf-8') # required to convert to unicode\n",
    "\n",
    "with open('stop_words_en.txt') as f:\n",
    "    stop_words = set(f.read().split())\n",
    "\n",
    "for line in sys.stdin:\n",
    "    try:\n",
    "        article_id, text = unicode(line.strip()).split('\\t', 1)\n",
    "    except ValueError as e:\n",
    "        continue\n",
    "    words = re.split(\"\\W*\\s+\\W*\", text, flags=re.UNICODE)\n",
    "    for word in words:\n",
    "        print >> sys.stderr, \"reporter:counter:wiki,total_words,%d\" % 1\n",
    "        if word in stop_words:\n",
    "            print >> sys.stderr, \"reporter:counter:wiki,stop_words,%d\" % 1\n",
    "        print \"%s\\t%d\" % (word.lower(), 1)"
   ]
  },
  {
   "cell_type": "code",
   "execution_count": 3,
   "metadata": {},
   "outputs": [],
   "source": [
    "%%writefile get_stopword_percentage.py\n",
    "#!/usr/bin/python\n",
    "\n",
    "import sys\n",
    "import re\n",
    "\n",
    "output_log = list(map(lambda x: x.strip(), sys.stdin.read().split()))\n",
    "\n",
    "pattern_tot = 'total_words='\n",
    "regexp_tot = re.compile(pattern_tot)\n",
    "\n",
    "pattern_stop = 'stop_words='\n",
    "regexp_stop = re.compile(pattern_stop)\n",
    "\n",
    "total_words = [int(x.replace(pattern_tot, '')) for x in output_log if regexp_tot.search(x)][0]\n",
    "stop_words = [int(x.replace(pattern_stop, '')) for x in output_log if regexp_stop.search(x)][0]\n",
    "\n",
    "print(stop_words / float(total_words) * 100)"
   ]
  },
  {
   "cell_type": "code",
   "execution_count": 4,
   "metadata": {},
   "outputs": [
    {
     "ename": "SyntaxError",
     "evalue": "invalid syntax (<ipython-input-4-45cd5b1f20ec>, line 5)",
     "output_type": "error",
     "traceback": [
      "\u001b[0;36m  File \u001b[0;32m\"<ipython-input-4-45cd5b1f20ec>\"\u001b[0;36m, line \u001b[0;32m5\u001b[0m\n\u001b[0;31m    hdfs dfs -rm -r -skipTrash ${OUT_DIR} > /dev/null\u001b[0m\n\u001b[0m           ^\u001b[0m\n\u001b[0;31mSyntaxError\u001b[0m\u001b[0;31m:\u001b[0m invalid syntax\n"
     ]
    }
   ],
   "source": [
    "\n",
    "OUT_DIR=\"wordcount_result_stopwords\"\n",
    "NUM_REDUCERS=0\n",
    "\n",
    "hdfs dfs -rm -r -skipTrash ${OUT_DIR} > /dev/null\n",
    "\n",
    "yarn jar /opt/cloudera/parcels/CDH/lib/hadoop-mapreduce/hadoop-streaming.jar \\\n",
    "    -D mapred.jab.name=\"Streaming stopwords\" \\\n",
    "    -D mapreduce.job.reduces=${NUM_REDUCERS} \\\n",
    "    -files mapper.py,/datasets/stop_words_en.txt \\\n",
    "    -mapper \"python2 mapper.py\" \\\n",
    "    -input /data/wiki/en_articles_part \\\n",
    "    -output ${OUT_DIR} > /dev/null 2> output.log"
   ]
  },
  {
   "cell_type": "code",
   "execution_count": 5,
   "metadata": {},
   "outputs": [],
   "source": [
    "%%bash\n",
    "\n",
    "cat output.log | egrep \"*_words\" | python get_stopword_percentage.py\n",
    "cat output.log >&2"
   ]
  },
  {
   "cell_type": "code",
   "execution_count": null,
   "metadata": {},
   "outputs": [],
   "source": []
  }
 ],
 "metadata": {
  "kernelspec": {
   "display_name": "Python 2",
   "language": "python",
   "name": "python2"
  },
  "language_info": {
   "codemirror_mode": {
    "name": "ipython",
    "version": 2
   },
   "file_extension": ".py",
   "mimetype": "text/x-python",
   "name": "python",
   "nbconvert_exporter": "python",
   "pygments_lexer": "ipython2",
   "version": "2.7.12"
  }
 },
 "nbformat": 4,
 "nbformat_minor": 2
}
